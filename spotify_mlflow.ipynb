{
 "cells": [
  {
   "cell_type": "code",
   "execution_count": 11,
   "metadata": {},
   "outputs": [],
   "source": [
    "import mlflow\n",
    "from mlflow.client import MlflowClient\n",
    "\n",
    "\n",
    "import sklearn\n",
    "from sklearn.tree import DecisionTreeClassifier\n",
    "from sklearn.ensemble import RandomForestClassifier\n",
    "from sklearn.svm import SVC\n",
    "from sklearn.model_selection import train_test_split\n",
    "from sklearn.metrics import recall_score\n",
    "\n",
    "import numpy  as np\n",
    "from numpy import random as rd\n",
    "from matplotlib import pyplot as plt\n",
    "\n",
    "\n",
    "from sklearn import svm, datasets\n",
    "from sklearn.model_selection import GridSearchCV\n",
    "\n",
    "import pandas as pd"
   ]
  },
  {
   "cell_type": "code",
   "execution_count": null,
   "metadata": {},
   "outputs": [],
   "source": [
    "# num_data = 10**3\n",
    "\n",
    "# x1 = rd.normal(loc = 0, size = num_data)\n",
    "# x2 = rd.normal(loc = 4, size = num_data)\n",
    "# df = pd.DataFrame({'X':[*x1] + [*x2],'y':[0]*num_data + [1]*num_data})\n",
    "# model = DecisionTreeClassifier(max_depth = 1)\n",
    "# model.fit(df[['X']],df['y'])\n",
    "\n",
    "# plt.vlines(model.tree_.threshold[0],0,140, color = 'red')\n",
    "\n",
    "# plt.hist(x1, bins = 20)\n",
    "# plt.hist(x2, bins = 20)\n",
    "\n",
    "#Importando dataset\n",
    "\n",
    "DATASET_PATH = '/Users/matias/Documents/Posgrado/mis_trabajos/posgrado_ia/Bimestre 3/ML2/spotify_data/data_playlist.csv'\n",
    "df = pd.read_csv(DATASET_PATH, delimiter=',')\n",
    "\n",
    "X = df.drop(['label'],axis = 1)\n",
    "y = df['label']\n",
    "X_train, X_test, y_train, y_test = train_test_split(X,y,test_size=0.1,random_state=2022)\n",
    "model = RandomForestClassifier(max_depth=5, random_state=2022)\n",
    "model.fit(X_train, y_train)\n",
    " \n",
    "\n",
    "\n",
    "mlflow.sklearn.autolog()\n",
    "\n",
    "with mlflow.start_run():\n",
    "\n",
    "    model = RandomForestClassifier(max_depth=10, random_state=2022)\n",
    "    model.fit(X_train, y_train) \n",
    "    \n",
    "    mlflow.sklearn.log_model(model,'Model without data analysis')\n",
    "    mlflow.set_tag('developer','Matias')\n",
    "\n",
    "    y_pred = model.predict(X_test)\n",
    "\n",
    "    score = model.score(X_test , y_test)\n",
    "    macro = recall_score(y_test, y_pred, average='macro')\n",
    "    micro = recall_score(y_test, y_pred, average='micro')\n",
    "    weighted = recall_score(y_test, y_pred, average='weighted')\n",
    "    mlflow.log_metric('score'         ,score)\n",
    "    mlflow.log_metric('macro score'   ,macro)\n",
    "    mlflow.log_metric('micro score'   ,micro)\n",
    "    mlflow.log_metric('weighted score',weighted)\n"
   ]
  },
  {
   "cell_type": "code",
   "execution_count": null,
   "metadata": {},
   "outputs": [],
   "source": []
  }
 ],
 "metadata": {
  "kernelspec": {
   "display_name": "Python 3",
   "language": "python",
   "name": "python3"
  },
  "language_info": {
   "codemirror_mode": {
    "name": "ipython",
    "version": 3
   },
   "file_extension": ".py",
   "mimetype": "text/x-python",
   "name": "python",
   "nbconvert_exporter": "python",
   "pygments_lexer": "ipython3",
   "version": "3.10.6"
  },
  "orig_nbformat": 4,
  "vscode": {
   "interpreter": {
    "hash": "b0fa6594d8f4cbf19f97940f81e996739fb7646882a419484c72d19e05852a7e"
   }
  }
 },
 "nbformat": 4,
 "nbformat_minor": 2
}
